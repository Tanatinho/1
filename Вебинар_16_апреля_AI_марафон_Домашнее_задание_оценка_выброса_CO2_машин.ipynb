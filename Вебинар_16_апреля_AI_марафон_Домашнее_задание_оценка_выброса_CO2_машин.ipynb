{
  "nbformat": 4,
  "nbformat_minor": 0,
  "metadata": {
    "colab": {
      "provenance": [],
      "include_colab_link": true
    },
    "kernelspec": {
      "name": "python3",
      "display_name": "Python 3"
    },
    "language_info": {
      "name": "python"
    }
  },
  "cells": [
    {
      "cell_type": "markdown",
      "metadata": {
        "id": "view-in-github",
        "colab_type": "text"
      },
      "source": [
        "<a href=\"https://colab.research.google.com/github/Tanatinho/1/blob/main/%D0%92%D0%B5%D0%B1%D0%B8%D0%BD%D0%B0%D1%80_16_%D0%B0%D0%BF%D1%80%D0%B5%D0%BB%D1%8F_AI_%D0%BC%D0%B0%D1%80%D0%B0%D1%84%D0%BE%D0%BD_%D0%94%D0%BE%D0%BC%D0%B0%D1%88%D0%BD%D0%B5%D0%B5_%D0%B7%D0%B0%D0%B4%D0%B0%D0%BD%D0%B8%D0%B5_%D0%BE%D1%86%D0%B5%D0%BD%D0%BA%D0%B0_%D0%B2%D1%8B%D0%B1%D1%80%D0%BE%D1%81%D0%B0_CO2_%D0%BC%D0%B0%D1%88%D0%B8%D0%BD.ipynb\" target=\"_parent\"><img src=\"https://colab.research.google.com/assets/colab-badge.svg\" alt=\"Open In Colab\"/></a>"
      ]
    },
    {
      "cell_type": "markdown",
      "source": [
        "**ДЛЯ ВЫПОЛНЕНИЯ ДОМАШНЕГО ЗАДАНИЯ:**\n",
        "\n",
        "1. Зайдите в меню **\"Файл\"** в верхнем левом углу экрана и сохраните копию ноутбука у себя на Google Диске нажав **\"Сохранить копию на Диске\"**, все дальнейшие эксперименты проводите уже в этой копии ноутбука.\n",
        "\n",
        "2. Загрузите таблицу и проанализируйте данные.\n",
        "\n",
        "3. Выберите нужные столбцы, переведите текстовые данные в числовые и при необходимости нормализуйте данные.\n",
        "\n",
        "4. Выберите процент проверочной выборки (процент и значения тестовой выборки зафиксированы и не подлежат изменению).\n",
        "\n",
        "5. Проведите эксперименты и сохраните в ноутбуке результат (лог) работы лучшей собранной модели (значение **\"Ошибка:..%\"**)\n",
        "\n",
        "6. После завершения эксперимента заполните форму и отправьте ее на проверку:\n",
        "[Форма для сдачи домашнего задания](https://docs.google.com/forms/d/e/1FAIpQLSfHPaz_lvkQ4e6TiSJ3JebTtkhGPNR-qi0a4t0F7yCE7NkR0Q/viewform)\n",
        "\n",
        "7. При наличии вопросов по заданию заполните следующюю форму: [Форма для вопросов](https://docs.google.com/forms/d/e/1FAIpQLSeR8VikLQ28wq70x4eZZFrlaa7OSOxoDdrMZb7TGfFPlpwaNg/viewform?usp=sf_link)\n",
        "\n",
        "**ВНИМАНИЕ!!!** Для корректной работы ноутбука не забывайте запускать ячейки скрытого кода с пометкой **(ЗАПУСТИТЕ ЭТОТ КОД)**"
      ],
      "metadata": {
        "id": "gW3KNVOJAxPw"
      }
    },
    {
      "cell_type": "markdown",
      "source": [
        "ПРИМЕР ОТКРЫТОГО КОДА:\n",
        "\n",
        "![open.png](data:image/png;base64,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)\n",
        "\n",
        "ПРИМЕР СКРЫТОГО КОДА:\n",
        "\n",
        "![Closed.png](data:image/png;base64,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)"
      ],
      "metadata": {
        "id": "CDklJrzzd2ZA"
      }
    },
    {
      "cell_type": "markdown",
      "source": [
        "## **ТЕМА: ОЦЕНКА ВЫБРОСА СО2 МАШИН**"
      ],
      "metadata": {
        "id": "qszpFBC78Hsv"
      }
    },
    {
      "cell_type": "markdown",
      "source": [
        "> БАЗА ДАННЫХ ВКЛЮЧАЕТ В СЕБЯ ХАРАКТЕРИСТИКИ 7385 АВТОМОБИЛЕЙ."
      ],
      "metadata": {
        "id": "GNik7MJJU1Ap"
      }
    },
    {
      "cell_type": "markdown",
      "source": [
        "**ИМЕЮЩИЕСЯ ДАННЫЕ:**\n",
        " - Make - **марка автомобиля**\n",
        "\n",
        "- Model - **модель автомобиля**\n",
        "\n",
        "- Vehicle Class - **категория автомобиля** (легковой, внедорожник, грузовик и т.д.)\n",
        "\n",
        "- Engine Size - **объём двигателя**\n",
        "\n",
        "- Cylinders - **количество цилиндров в двигателе**\n",
        "\n",
        "- Transmission - **тип коробки передач** (автоматическая, механическая и т.д.)\n",
        "\n",
        "- Fuel Type - **тип используемого топлива** (бензин, дизель и т.д.)\n",
        "\n",
        "- Fuel Consumption City - **среднее потребление топлива** в литрах на 100 километров в городских условиях\n",
        "\n",
        "- Fuel Consumption Hwy - **среднее потребление топлива** в литрах на 100 километров на шоссе\n",
        "\n",
        "- Fuel Consumption Comb - **совокупное потребление топлива** (среднее совокупное потребление топлива на 100 километров, включая городские и шоссейные условия)\n",
        "\n",
        "- Fuel Consumption Comb (mpg) - **cреднее совокупное потребление топлива** в милях на галлон (альтернативное выражение)\n",
        "\n",
        "**ПРЕДСКАЗЫВАЕМ:**\n",
        "\n",
        "- CO2 Emissions (g/km) - **количество выбросов углекислого газа** в граммах на километр, производимых автомобилем\n",
        "\n",
        "______________________________________________________________________________\n",
        "\n",
        "ДОПОЛНИТЕЛЬНАЯ ИНФОРМАЦИЯ:\n",
        "\n",
        "Модель:\n",
        "\n",
        "- 4WD/4X4 - Полный привод\n",
        "\n",
        "- AWD - Полный привод на все колеса\n",
        "\n",
        "- FFV - Автомобиль с экономичным расходом топлива\n",
        "\n",
        "- SWB - Короткая колесная база\n",
        "\n",
        "- LWB - Длинная колесная база\n",
        "\n",
        "- EWB - Удлиненная колесная база\n",
        "\n",
        "Коробка передач:\n",
        "\n",
        "- A - автоматическая\n",
        "\n",
        "- AM - автоматическая механическая\n",
        "\n",
        "- AS - автоматическая с выбранным переключением передач\n",
        "\n",
        "- AV - бесступенчатая\n",
        "\n",
        "- M - механическая\n",
        "\n",
        "- 3-10 - Количество передач\n",
        "\n",
        "Тип топлива:\n",
        "\n",
        "- X - обычный бензин\n",
        "\n",
        "- Z - бензин премиум-класса\n",
        "\n",
        "- D - дизельное топливо\n",
        "\n",
        "- E - этанол (E85)\n",
        "\n",
        "- N - природный газ\n",
        "\n",
        "Расход топлива:\n",
        " Показатели расхода топлива в городе и на шоссе указаны в литрах на 100 километров - суммарный показатель (55% по городу, 45% по шоссе) указан в литрах на 100 км и милях на галлон. Выбросы CO2, выбросы углекислого газа из выхлопных труб (в граммах на километр) при совместном движении по городу и шоссе.\n"
      ],
      "metadata": {
        "id": "39_Kgd-s8ivW"
      }
    },
    {
      "cell_type": "markdown",
      "source": [
        "## **ИМПОРТ НЕОБХОДИМЫХ БИБЛИОТЕК И ЗАГРУЗКА ДАННЫХ**"
      ],
      "metadata": {
        "id": "LtJuta7CLtri"
      }
    },
    {
      "cell_type": "code",
      "source": [
        "#@title Импорт библиотек (ЗАПУСТИТЕ ЭТОТ КОД)\n",
        "!pip install autokeras\n",
        "import warnings\n",
        "import numpy as np\n",
        "import pandas as pd\n",
        "import gdown\n",
        "import autokeras as ak\n",
        "from sklearn.preprocessing import MinMaxScaler\n",
        "from tensorflow.keras import utils\n",
        "from sklearn.preprocessing import LabelEncoder\n",
        "from sklearn.model_selection import train_test_split\n",
        "from IPython.display import clear_output\n",
        "import matplotlib.pyplot as plt\n",
        "import seaborn as sns\n",
        "import gdown\n",
        "clear_output()"
      ],
      "metadata": {
        "id": "VZa0Qd0SLq0C",
        "cellView": "form"
      },
      "execution_count": null,
      "outputs": []
    },
    {
      "cell_type": "markdown",
      "source": [
        "Загружаем данные"
      ],
      "metadata": {
        "id": "lid7syT2EJQP"
      }
    },
    {
      "cell_type": "code",
      "source": [
        "gdown.download('https://storage.yandexcloud.net/aiueducation/marketing/datasets/CO2.csv', None, quiet=True)\n",
        "df = pd.read_csv('/content/CO2.csv')\n",
        "df"
      ],
      "metadata": {
        "id": "hzGXEXQuvmFI"
      },
      "execution_count": null,
      "outputs": []
    },
    {
      "cell_type": "markdown",
      "source": [
        "#**ВАШЕ РЕШЕНИЕ**"
      ],
      "metadata": {
        "id": "BtmkhXxNjeVy"
      }
    },
    {
      "cell_type": "markdown",
      "source": [
        "## **ПРЕДОБРАБОТКА ДАННЫХ**"
      ],
      "metadata": {
        "id": "pLBlaVI4aBi_"
      }
    },
    {
      "cell_type": "code",
      "source": [
        "#@title Функция выбора столбцов (ЗАПУСТИТЕ ЭТОТ КОД)\n",
        "def select_columns(df):\n",
        "    normalized = False\n",
        "    while True:\n",
        "        # Удаляем столбец 'Kit price'\n",
        "        df_without_kit_price = df.drop(columns=['CO2 Emissions(g/km)'])\n",
        "\n",
        "        # Пронумерованный список оставшихся столбцов\n",
        "        columns_list = [(i, col) for i, col in enumerate(df_without_kit_price.columns)]\n",
        "\n",
        "        # Вывод списка столбцов с их номерами\n",
        "        print(\"Список столбцов:\")\n",
        "        for col_num, col_name in columns_list:\n",
        "            print(f\"{col_num}. {col_name}\")\n",
        "\n",
        "        # Запрос пользователю выбрать столбцы для анализа\n",
        "        selected_nums = input(\"Введите номера столбцов через пробел (хотя бы один): \").split(\" \")\n",
        "        selected_nums = [int(num.strip()) for num in selected_nums if num.strip().isdigit()]\n",
        "\n",
        "        # Проверка выбранных столбцов\n",
        "        selected_columns = []\n",
        "        for num in selected_nums:\n",
        "            if num < 0 or num >= len(columns_list):\n",
        "                continue\n",
        "            selected_columns.append(columns_list[num][1])\n",
        "\n",
        "        if len(selected_columns) < 1:\n",
        "            print(\"Ни один столбец не выбран, повторите выбор.\")\n",
        "            continue  # Возвращаемся в начало цикла\n",
        "\n",
        "        # Добавление столбца 'Kit price' в конец списка выбранных столбцов\n",
        "        selected_columns.append('CO2 Emissions(g/km)')\n",
        "\n",
        "        # Создание нового DataFrame с выбранными столбцами\n",
        "        new_df = df[selected_columns]\n",
        "\n",
        "        return new_df, normalized"
      ],
      "metadata": {
        "cellView": "form",
        "id": "syb7_Z0FMIee"
      },
      "execution_count": null,
      "outputs": []
    },
    {
      "cell_type": "markdown",
      "source": [
        "Выбираем столбцы для проведения экспериментов (CO2 Emissions(g/km) - целевой столбец автоматически добавится в конец новой  таблицы):\n",
        "\n",
        "**вход:**\n",
        "- df - исходная таблица\n",
        "\n",
        "**выход:**\n",
        "- new_df - новая таблица\n",
        "- normalized - параметр нормализации = Fаlse"
      ],
      "metadata": {
        "id": "oVibk6o2MTvm"
      }
    },
    {
      "cell_type": "code",
      "source": [
        "new_df, normalized = select_columns(df)\n",
        "new_df"
      ],
      "metadata": {
        "id": "jhYqQDL5MXEm"
      },
      "execution_count": null,
      "outputs": []
    },
    {
      "cell_type": "code",
      "source": [
        "#@title Функция перевода текстовых данных в числовые категориальные метки (ЗАПУСТИТЕ ЭТОТ КОД)\n",
        "def encode_categorical(df, labelData):\n",
        "    # Проверка наличия столбцов из labelData в DataFrame\n",
        "    existing_columns = [col for col in labelData if col in df.columns]\n",
        "    if not existing_columns:\n",
        "        print(\"В таблице нет текстовых столбцов.\")\n",
        "        return df\n",
        "\n",
        "    # Копирование DataFrame, чтобы избежать изменений в оригинальном DataFrame\n",
        "    df_encoded = df.copy()\n",
        "\n",
        "    # Кодирование категориальных столбцов\n",
        "    encoder = LabelEncoder()\n",
        "    for column in existing_columns:\n",
        "        df_encoded[column] = encoder.fit_transform(df_encoded[column])\n",
        "\n",
        "    return df_encoded"
      ],
      "metadata": {
        "cellView": "form",
        "id": "PrC1ej45M91j"
      },
      "execution_count": null,
      "outputs": []
    },
    {
      "cell_type": "markdown",
      "source": [
        "Переводим текстовые данные в числовые категориальные метки (обязательно при наличии текстовых столбцов):\n",
        "\n",
        "**вход:**\n",
        "- new_df - новая таблица\n",
        "\n",
        "- ['Make', 'Model', 'Vehicle Class', 'Transmission', 'Fuel Type'] - перечень текстовых столбцов\n",
        "\n",
        "**выход:**\n",
        "- new_df - новая таблица без текстовых данных"
      ],
      "metadata": {
        "id": "WF3J_cALNDRu"
      }
    },
    {
      "cell_type": "code",
      "source": [
        "new_df = encode_categorical(new_df, ['Make', 'Model', 'Vehicle Class', 'Transmission', 'Fuel Type'])\n",
        "new_df"
      ],
      "metadata": {
        "id": "p92fDiwGNHzd"
      },
      "execution_count": null,
      "outputs": []
    },
    {
      "cell_type": "code",
      "source": [
        "#@title Функция нормализации данных (ЗАПУСТИТЕ ЭТОТ КОД)\n",
        "def normalize_dataframe(df, normalized):\n",
        "    # Копирование DataFrame, чтобы избежать изменений в оригинальном DataFrame\n",
        "    df_normalized = df.copy()\n",
        "\n",
        "    # Нормирование всех числовых столбцов\n",
        "    numeric_cols = df_normalized.select_dtypes(include=['float64', 'int64']).columns.drop(\"CO2 Emissions(g/km)\")\n",
        "    scaler = MinMaxScaler(feature_range=(0, 1))\n",
        "    df_normalized[numeric_cols] = scaler.fit_transform(df_normalized[numeric_cols])\n",
        "\n",
        "    # Нормирование целевого значения 'Kit price'\n",
        "    scaler_price = MinMaxScaler(feature_range=(0, 1))\n",
        "    df_normalized['CO2 Emissions(g/km)'] = scaler_price.fit_transform(df_normalized[['CO2 Emissions(g/km)']])\n",
        "    normalized = True\n",
        "\n",
        "    return df_normalized, scaler_price, normalized"
      ],
      "metadata": {
        "cellView": "form",
        "id": "8z5_ZmsqN-7W"
      },
      "execution_count": null,
      "outputs": []
    },
    {
      "cell_type": "markdown",
      "source": [
        "Нормализация данных всех столбцов в диапазон от 0 до 1 (не обязательно):\n",
        "\n",
        "**вход:**\n",
        "- new_df - новая таблица\n",
        "- normalized - параметр нормализации = False\n",
        "\n",
        "**выход:**\n",
        "- new_df - нормированная новая таблица\n",
        "- scaler_price - преобразователь значений выбросов СО2 (нужен будет при оценке тестовых данных)\n",
        "- normalized - параметр нормализации = True"
      ],
      "metadata": {
        "id": "wHZ_OuPfOZep"
      }
    },
    {
      "cell_type": "code",
      "source": [
        "new_df, scaler_co, normalized = normalize_dataframe(new_df, normalized)\n",
        "new_df"
      ],
      "metadata": {
        "id": "0m18GyjKOdws"
      },
      "execution_count": null,
      "outputs": []
    },
    {
      "cell_type": "markdown",
      "source": [
        "## **РАЗДЕЛЕНИЕ ДАННЫХ НА ОБУЧАЮЩУЮ, ПРОВЕРОЧНУЮ И ТЕСТОВУЮ ВЫБОРКИ**"
      ],
      "metadata": {
        "id": "qrIHGC00rW4r"
      }
    },
    {
      "cell_type": "code",
      "source": [
        "#@title Функция разделения данных (ЗАПУСТИТЕ ЭТОТ КОД)\n",
        "def split_data(df):\n",
        "    # Запрос размера проверочной выборки у пользователя\n",
        "    val_percent = input(\"Введите % проверочной выборки (от 1 до 99): \")\n",
        "    try:\n",
        "        val_percent = float(val_percent)\n",
        "        if val_percent < 1 or val_percent > 99:\n",
        "            print(\"Процентный размер проверочной выборки должен быть в диапазоне от 1 до 99.\")\n",
        "            return None, None, None, None\n",
        "    except ValueError:\n",
        "        print(\"Некорректный ввод. Размер проверочной выборки должен быть числом от 1 до 99.\")\n",
        "        return None, None, None, None\n",
        "\n",
        "    # Преобразование процентного размера в долю от общего количества данных\n",
        "    val_size = val_percent / 100\n",
        "\n",
        "    # Разделение данных на обучающую, проверочную и тестовую выборки\n",
        "    X_train_val, X_test, y_train_val, y_test = train_test_split(df.drop(columns=['CO2 Emissions(g/km)']), df['CO2 Emissions(g/km)'], test_size=0.1, random_state=42)\n",
        "    X_train, X_val, y_train, y_val = train_test_split(X_train_val, y_train_val, test_size=val_size, random_state=42)\n",
        "\n",
        "    # Преобразование в массивы NumPy\n",
        "    X_train_np = X_train.to_numpy()\n",
        "    y_train_np = y_train.to_numpy()\n",
        "\n",
        "    X_val_np = X_val.to_numpy()\n",
        "    y_val_np = y_val.to_numpy()\n",
        "\n",
        "    X_test_np = X_test.to_numpy()\n",
        "    y_test_np = y_test.to_numpy()\n",
        "\n",
        "    print(\"Размеры обучающей выборки:\", X_train_np.shape)\n",
        "    print(\"Размеры проверочной выборки:\", X_val_np.shape)\n",
        "    print(\"Размеры тестовой выборки:\", X_test_np.shape)\n",
        "\n",
        "    return X_train_np, X_val_np, X_test_np, y_train_np, y_val_np, y_test_np"
      ],
      "metadata": {
        "cellView": "form",
        "id": "D094UgT0Pw0v"
      },
      "execution_count": null,
      "outputs": []
    },
    {
      "cell_type": "markdown",
      "source": [
        "Выбираем % проверочной выборки (тестовая выборка фиксирована - 10%)\n",
        "\n",
        "**вход:**\n",
        "- new_df - новая таблица\n",
        "\n",
        "**выход:**\n",
        "- X_train - тренировочная выборка\n",
        "- X_val - проверочная выборка\n",
        "- X_test - тестовая выборка\n",
        "- y_train - целевая переменная тренировочной выборки\n",
        "- y_val - целевая переменная проверочной выборки\n",
        "- y_test - целевая переменная тестовой выборки"
      ],
      "metadata": {
        "id": "-HPHIDa0QKSv"
      }
    },
    {
      "cell_type": "code",
      "source": [
        "X_train, X_val, X_test, y_train, y_val, y_test = split_data(new_df)\n",
        "print()\n",
        "print('Тренировочная выборка\\n', X_train)\n",
        "print('\\nПроверочная выборка\\n', X_val)\n",
        "print('\\nТестовая выборка\\n', X_test)\n",
        "print('\\nЦелевые значения тренировочной выборки\\n', y_train)\n",
        "print('\\nЦелевые значения проверочной выборки\\n', y_val)\n",
        "print('\\nЦелевые значения тестовой выборки\\n', y_test)"
      ],
      "metadata": {
        "id": "up0Se85dQNYr"
      },
      "execution_count": null,
      "outputs": []
    },
    {
      "cell_type": "markdown",
      "source": [
        "## **ОБУЧЕНИЕ МОДЕЛИ**"
      ],
      "metadata": {
        "id": "xRv8lchyq7F0"
      }
    },
    {
      "cell_type": "code",
      "source": [
        "#@title Создание подготовительного блока (ЗАПУСТИТЕ ЭТОТ КОД)\n",
        "input_node = ak.Input()\n",
        "output_node = ak.RegressionHead()(input_node)"
      ],
      "metadata": {
        "cellView": "form",
        "id": "WVEfZKDqQtd5"
      },
      "execution_count": null,
      "outputs": []
    },
    {
      "cell_type": "code",
      "source": [
        "#@title Функция для оценки работы модели (ЗАПУСТИТЕ ЭТОТ КОД)\n",
        "def evaluate_model(auto_model, X_test, y_test, scaler_co, normalized):\n",
        "    # Выводим сообщение о начале проверки на тестовом наборе\n",
        "    print()\n",
        "    print()\n",
        "    print('ПРОВЕРКА ОБУЧЕННОЙ МОДЕЛИ НА ТЕСТОВОМ НАБОРЕ:')\n",
        "\n",
        "    # Предсказание значений тестовой выборки\n",
        "    with warnings.catch_warnings():\n",
        "        warnings.simplefilter(\"ignore\")\n",
        "        y_pred = auto_model.predict(X_test)\n",
        "\n",
        "    # Обратное преобразование целевой переменной\n",
        "    if normalized:\n",
        "        y_pred_original = scaler_co.inverse_transform(y_pred).flatten()\n",
        "        y_test_original = scaler_co.inverse_transform(y_test.reshape(-1, 1)).flatten()\n",
        "    else:\n",
        "        y_pred_original = y_pred.flatten()\n",
        "        y_test_original = y_test.flatten()\n",
        "\n",
        "    # Вычисление ошибки\n",
        "    error = np.abs(y_test_original - y_pred_original)\n",
        "    mean_error = np.mean(error)\n",
        "\n",
        "    # Среднее значение целевых данных на тестовой выборке\n",
        "    mean_co = np.mean(y_test_original)\n",
        "\n",
        "    # Вывод результатов\n",
        "    print('Ошибка: {:.2f} г/км, при среднем значении: {:.2f} г/км'.format(round(mean_error, 2), round(mean_co, 2)))\n",
        "    percent_error = (mean_error / mean_co) * 100\n",
        "    print(\"Ошибка: {:.2f} %\".format(round(percent_error, 2)))"
      ],
      "metadata": {
        "id": "F1RhrVp6Qxez",
        "cellView": "form"
      },
      "execution_count": null,
      "outputs": []
    },
    {
      "cell_type": "code",
      "source": [
        "'''\n",
        "СОЗДАНИЕ МОДЕЛИ\n",
        "ВХОД:\n",
        "inputs - входной узел данных\n",
        "outputs - выходной узел данных\n",
        "overwrite - флаг перезаписи модели\n",
        "max_trials - количество разных конфигураций модели\n",
        "tuner - применяемый настройщик подбора конфигурации\n",
        "project_name - название эксперимента\n",
        "ВЫХОД:\n",
        "auto_model - экземпляр автоматической модели\n",
        "'''\n",
        "auto_model = ak.AutoModel(\n",
        "    inputs=input_node,\n",
        "    outputs=output_node,\n",
        "    overwrite=True,\n",
        "    max_trials=5,\n",
        "    tuner='random',\n",
        "    project_name='co2'\n",
        ")\n",
        "\n",
        "'''\n",
        "ОБУЧЕНИЕ МОДЕЛИ\n",
        "ВХОД:\n",
        "X_train - тренировочная выборка\n",
        "y_train - проверочная выборка\n",
        "validation_data - целевые значения\n",
        "epochs - количество эпох\n",
        "verbose - визуализация обучения\n",
        "ВЫХОД:\n",
        "auto_model - обученная модель\n",
        "'''\n",
        "auto_model.fit(X_train, y_train, validation_data=(X_val, y_val), epochs=5, verbose=1)\n",
        "\n",
        "'''\n",
        "ОЦЕНКА РАБОТЫ МОДЕЛИ\n",
        "ВХОД:\n",
        "auto_model - обученная модель\n",
        "X_test - тестовая выборка\n",
        "y_test - целевые значения тестовой выборки\n",
        "scaler_price - преобразователь целевых значений\n",
        "normalized - флаг нормализации\n",
        "ВЫХОД:\n",
        "результаты оценки\n",
        "'''\n",
        "evaluate_model(auto_model, X_test, y_test, scaler_co, normalized)"
      ],
      "metadata": {
        "id": "Y2zDIgMdQ6jb"
      },
      "execution_count": null,
      "outputs": []
    }
  ]
}